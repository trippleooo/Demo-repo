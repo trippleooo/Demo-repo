{
  "nbformat": 4,
  "nbformat_minor": 0,
  "metadata": {
    "colab": {
      "provenance": [],
      "authorship_tag": "ABX9TyO+oTnPEj1Q6GNDn7oan6Mg",
      "include_colab_link": true
    },
    "kernelspec": {
      "name": "python3",
      "display_name": "Python 3"
    },
    "language_info": {
      "name": "python"
    }
  },
  "cells": [
    {
      "cell_type": "markdown",
      "metadata": {
        "id": "view-in-github",
        "colab_type": "text"
      },
      "source": [
        "<a href=\"https://colab.research.google.com/github/trippleooo/Demo-repo/blob/main/Untitled20.ipynb\" target=\"_parent\"><img src=\"https://colab.research.google.com/assets/colab-badge.svg\" alt=\"Open In Colab\"/></a>"
      ]
    },
    {
      "cell_type": "code",
      "execution_count": null,
      "metadata": {
        "id": "oWF24Va1V9NY"
      },
      "outputs": [],
      "source": [
        "import math\n",
        "\n",
        "class Calculator:\n",
        "    def __init__(self):\n",
        "        self.operations = {\n",
        "            '+': lambda x, y: x + y,\n",
        "            '-': lambda x, y: x - y,\n",
        "            '*': lambda x, y: x * y,\n",
        "            '/': lambda x, y: x / y if y != 0 else \"Cannot divide by zero\"\n",
        "        }\n",
        "\n",
        "    def add_operation(self, symbol, func):\n",
        "        self.operations[symbol] = func\n",
        "\n",
        "    def calculate(self, num1, op, num2=None):\n",
        "        if op in self.operations:\n",
        "            if isinstance(num1, (int, float)) and (num2 is None or isinstance(num2, (int, float))):\n",
        "                return self.operations[op](num1, num2)\n",
        "            else:\n",
        "                return \"Both inputs must be numbers\"\n",
        "        return \"Invalid operation\"\n",
        "\n",
        "calculator = Calculator()\n",
        "calculator.add_operation('^', lambda x, y: x ** y)\n",
        "calculator.add_operation('sqrt', lambda x, _: math.sqrt(x))\n",
        "calculator.add_operation('log', lambda x, base: math.log(x, base if base else 10))\n",
        "\n",
        "while True:\n",
        "    operation = input(\"Enter operation (+, -, *, /, ^, sqrt, log or 'exit'): \")\n",
        "    if operation == 'exit':\n",
        "        break\n",
        "\n",
        "    try:\n",
        "        if operation in ['sqrt', 'log']:\n",
        "            num1 = float(input(\"Enter the number: \"))\n",
        "            if operation == 'log':\n",
        "                base = float(input(\"Enter the base (default is 10): \") or 10)\n",
        "                print(\"Result:\", calculator.calculate(num1, operation, base))\n",
        "            else:\n",
        "                print(\"Result:\", calculator.calculate(num1, operation))\n",
        "        else:\n",
        "            num1 = float(input(\"Enter the first number: \"))\n",
        "            num2 = float(input(\"Enter the second number: \"))\n",
        "            print(\"Result:\", calculator.calculate(num1, operation, num2))\n",
        "    except Exception as e:\n",
        "        print(\"Error:\", e)"
      ]
    }
  ]
}