{
  "nbformat": 4,
  "nbformat_minor": 0,
  "metadata": {
    "colab": {
      "provenance": [],
      "authorship_tag": "ABX9TyPnlqL2uIJ0tTRPnOe90LZj",
      "include_colab_link": true
    },
    "kernelspec": {
      "name": "python3",
      "display_name": "Python 3"
    },
    "language_info": {
      "name": "python"
    }
  },
  "cells": [
    {
      "cell_type": "markdown",
      "metadata": {
        "id": "view-in-github",
        "colab_type": "text"
      },
      "source": [
        "<a href=\"https://colab.research.google.com/github/trippleooo/Demo-repo/blob/main/Untitled21.ipynb\" target=\"_parent\"><img src=\"https://colab.research.google.com/assets/colab-badge.svg\" alt=\"Open In Colab\"/></a>"
      ]
    },
    {
      "cell_type": "code",
      "source": [
        "import requests"
      ],
      "metadata": {
        "id": "Q6Tmf99ECFxg"
      },
      "execution_count": 2,
      "outputs": []
    },
    {
      "cell_type": "code",
      "source": [
        "API_KEY = 'eO8FTihuGox6UhNEwzBjOqNzoXounZbfZqK0ffIr'"
      ],
      "metadata": {
        "id": "jKGAB1GgCKt8"
      },
      "execution_count": 3,
      "outputs": []
    },
    {
      "cell_type": "code",
      "source": [
        "# Base URL for APOD API\n",
        "BASE_URL = 'https://api.nasa.gov/planetary/apod'\n",
        "\n",
        "# Making the request to the APOD API\n",
        "response = requests.get(BASE_URL, params={'api_key': API_KEY})\n",
        "\n",
        "# Checking if the request was successful\n",
        "if response.status_code == 200:\n",
        "    apod_data = response.json()  # Parse the JSON response\n",
        "    print(\"Title:\", apod_data['title'])\n",
        "    print(\"Explanation:\", apod_data['explanation'])\n",
        "    print(\"Image URL:\", apod_data['url'])\n",
        "else:\n",
        "    print(\"Error fetching data. Status code:\", response.status_code)\n",
        "\n",
        "from IPython.display import Image, display\n",
        "\n",
        "# Get the image URL from the response data\n",
        "image_url = apod_data['url']\n",
        "\n",
        "# Display the image\n",
        "display(Image(url=image_url))"
      ],
      "metadata": {
        "colab": {
          "base_uri": "https://localhost:8080/",
          "height": 1000
        },
        "id": "oACgi2NKCSJA",
        "outputId": "76a7ba35-55ab-4d45-814e-b5c460ef259f"
      },
      "execution_count": 4,
      "outputs": [
        {
          "output_type": "stream",
          "name": "stdout",
          "text": [
            "Title: Barred Spiral Galaxy NGC 5335\n",
            "Explanation: This stunning portrait of NGC 5335 was captured by the Hubble Space Telescope.  Some 170,000 light-years across and over 200 million light-years away toward the constellation Virgo, the magnificent spiral galaxy is seen face-on in Hubble's view. Within the galactic disk, loose streamers of star forming regions lie along the galaxy's flocculent spiral arms. But the most striking feature of NGC 5335 is its prominent central bar. Seen in about 30 percent of galaxies, including our Milky Way, bar structures are understood to channel material inward toward the galactic center, fueling star formation. Of course, distant background galaxies are easy to spot, scattered around the sharp Hubble image. Launched in 1990, Hubble is now celebrating its 35th year exploring the cosmos from orbit around planet Earth.\n",
            "Image URL: https://apod.nasa.gov/apod/image/2504/NGC5335heic2505_1024.jpg\n"
          ]
        },
        {
          "output_type": "display_data",
          "data": {
            "text/html": [
              "<img src=\"https://apod.nasa.gov/apod/image/2504/NGC5335heic2505_1024.jpg\"/>"
            ],
            "text/plain": [
              "<IPython.core.display.Image object>"
            ]
          },
          "metadata": {}
        }
      ]
    },
    {
      "cell_type": "code",
      "source": [
        "# API_KEY = 'eO8FTihuGox6UhNEwzBjOqNzoXounZbfZqK0ffIr'\n",
        "# API_KEY = 'eO8FTihuGox6UhNEwzBjOqNzoXounZbfZqK0ffIr'\n",
        "# BASE_URL = 'https://api.nasa.gov/neo/rest/v1/feed'\n",
        "# ENDPOINTS = 'start_date=START_DATE&end_date=END_DATE'\n",
        "# import requests\n",
        "# response = requests.get(BASE_URL, params={'api_key': API_KEY, 'start_date' : 'START_DATE', 'end_date' : 'END_DATE'})\n",
        "# data = response.json()\n",
        "# import pandas as pd\n",
        "\n",
        "# data_list = []\n",
        "# df = pd.DataFrame(data_list)\n",
        "# print(df)\n"
      ],
      "metadata": {
        "colab": {
          "base_uri": "https://localhost:8080/"
        },
        "id": "QaJJtP2ZlDNK",
        "outputId": "b73695fe-d417-4f35-9e37-1e775856911d"
      },
      "execution_count": 7,
      "outputs": [
        {
          "output_type": "stream",
          "name": "stdout",
          "text": [
            "Empty DataFrame\n",
            "Columns: []\n",
            "Index: []\n"
          ]
        }
      ]
    },
    {
      "cell_type": "code",
      "source": [
        "import requests\n",
        "import pandas as pd\n",
        "\n",
        "# Constants\n",
        "API_KEY = 'eO8FTihuGox6UhNEwzBjOqNzoXounZbfZqK0ffIr'\n",
        "BASE_URL = 'https://api.nasa.gov/neo/rest/v1/feed'\n",
        "\n",
        "# Sending API request\n",
        "response = requests.get(BASE_URL, params={\n",
        "    'api_key': API_KEY,\n",
        "    'start_date': '2023-01-01',\n",
        "    'end_date': '2023-01-07'\n",
        "})\n",
        "\n",
        "# Checking if the request was successful\n",
        "if response.status_code == 200:\n",
        "    data = response.json()\n",
        "else:\n",
        "    print(f\"Error: {response.status_code}\")\n",
        "    data = None"
      ],
      "metadata": {
        "id": "zadWd62_pLm2"
      },
      "execution_count": 8,
      "outputs": []
    },
    {
      "cell_type": "code",
      "source": [
        "if data:\n",
        "    # Extracting the 'near_earth_objects' data\n",
        "    near_earth_objects = data['near_earth_objects']\n",
        "\n",
        "    # List to store cleaned data\n",
        "    data_list = []\n",
        "\n",
        "    # Loop through each date and its associated asteroids\n",
        "    for date, asteroids in near_earth_objects.items():\n",
        "        for asteroid in asteroids:\n",
        "            # Extracting required fields\n",
        "            asteroid_id = asteroid['id']\n",
        "            asteroid_name = asteroid['name']\n",
        "            min_diameter_km = asteroid['estimated_diameter']['kilometers']['estimated_diameter_min']\n",
        "            abs_magnitude = asteroid['absolute_magnitude_h']\n",
        "            rel_velocity = asteroid['close_approach_data'][0]['relative_velocity']['kilometers_per_second']\n",
        "\n",
        "            # Appending to the list\n",
        "            data_list.append({\n",
        "                'Asteroid ID': asteroid_id,\n",
        "                'Asteroid Name': asteroid_name,\n",
        "                'Minimal Diameter (km)': min_diameter_km,\n",
        "                'Absolute Magnitude': abs_magnitude,\n",
        "                'Relative Velocity (km/s)': rel_velocity\n",
        "            })\n",
        "\n",
        "    # Creating DataFrame\n",
        "    df = pd.DataFrame(data_list)\n",
        "    print(df)\n",
        "else:\n",
        "    print(\"No data retrieved from the API.\")"
      ],
      "metadata": {
        "colab": {
          "base_uri": "https://localhost:8080/"
        },
        "id": "o3XQ6LumpguQ",
        "outputId": "5a0a4271-6932-4b67-fdb1-907d5cb88b26"
      },
      "execution_count": 9,
      "outputs": [
        {
          "output_type": "stream",
          "name": "stdout",
          "text": [
            "    Asteroid ID      Asteroid Name  Minimal Diameter (km)  Absolute Magnitude  \\\n",
            "0       2453309  453309 (2008 VQ4)               0.333085               19.51   \n",
            "1       3683468       (2014 QR295)               0.557898               18.39   \n",
            "2       3703782        (2015 AE45)               0.023150               25.30   \n",
            "3       3720918          (2015 LJ)               0.030518               24.70   \n",
            "4       3767936        (2017 BQ93)               0.201630               20.60   \n",
            "..          ...                ...                    ...                 ...   \n",
            "106    54240297         (2022 BB3)               0.068953               22.93   \n",
            "107    54290521          (2022 OF)               0.014540               26.31   \n",
            "108    54336963         (2022 YD6)               0.038775               24.18   \n",
            "109    54338283          (2023 AF)               0.196135               20.66   \n",
            "110    54338830         (2023 AG1)               0.078083               22.66   \n",
            "\n",
            "    Relative Velocity (km/s)  \n",
            "0                5.822172435  \n",
            "1              16.1804693508  \n",
            "2               6.8621510862  \n",
            "3               7.1892215518  \n",
            "4              24.1632169643  \n",
            "..                       ...  \n",
            "106            10.0943824875  \n",
            "107            13.7642995208  \n",
            "108             9.5626087119  \n",
            "109            18.9482049659  \n",
            "110            12.9313991703  \n",
            "\n",
            "[111 rows x 5 columns]\n"
          ]
        }
      ]
    },
    {
      "cell_type": "code",
      "source": [
        "# Saving the DataFrame to a CSV file\n",
        "df.to_csv(\"asteroids_data.csv\", index=False)\n",
        "\n",
        "print(\"DataFrame has been successfully exported to 'asteroids_data.csv'.\")"
      ],
      "metadata": {
        "colab": {
          "base_uri": "https://localhost:8080/"
        },
        "id": "pxzIKcPRtFib",
        "outputId": "14e6d3d2-7566-40ff-da44-fa2db36565db"
      },
      "execution_count": 10,
      "outputs": [
        {
          "output_type": "stream",
          "name": "stdout",
          "text": [
            "DataFrame has been successfully exported to 'asteroids_data.csv'.\n"
          ]
        }
      ]
    }
  ]
}